{
 "cells": [
  {
   "cell_type": "code",
   "execution_count": 1,
   "metadata": {
    "collapsed": true
   },
   "outputs": [
    {
     "data": {
      "text/plain": "PageInteractor(url=https://www.google.com/)"
     },
     "execution_count": 1,
     "metadata": {},
     "output_type": "execute_result"
    }
   ],
   "source": [
    "from zephyrion.browser_agent.pyppeteer.browser_manager import SinglePageBrowser\n",
    "\n",
    "browser = SinglePageBrowser(headless=False)\n",
    "await browser.start_browser()\n",
    "page = await browser.get_active_page()\n",
    "\n",
    "page"
   ]
  },
  {
   "cell_type": "code",
   "execution_count": 15,
   "outputs": [
    {
     "name": "stderr",
     "output_type": "stream",
     "text": [
      "2023-08-17 11:00:58,796 - zephyrion.browser_agent.pypp_agent.debugger_9726a00b-3869-4a4f-bdd3-99db8686f18f_logger - INFO - Scrolling and loading ytd-rich-item-renderer...\n",
      "2023-08-17 11:00:58,798 - zephyrion.browser_agent.pypp_agent.debugger_9726a00b-3869-4a4f-bdd3-99db8686f18f_logger - INFO - Inner Call Scrolling and loading...(selector=ytd-rich-item-renderer, scroll_step=400, load_wait=40, same_th=20, threshold=500)\n",
      "2023-08-17 11:00:58,869 - zephyrion.browser_agent.pypp_agent.debugger_9726a00b-3869-4a4f-bdd3-99db8686f18f_logger - DEBUG - Scroll top: 4996, last top: None\n",
      "2023-08-17 11:00:58,983 - zephyrion.browser_agent.pypp_agent.debugger_9726a00b-3869-4a4f-bdd3-99db8686f18f_logger - DEBUG - Scroll top: 5396, last top: 4996\n",
      "2023-08-17 11:00:59,054 - zephyrion.browser_agent.pypp_agent.debugger_9726a00b-3869-4a4f-bdd3-99db8686f18f_logger - DEBUG - Scroll top: 5796, last top: 5396\n",
      "2023-08-17 11:00:59,187 - zephyrion.browser_agent.pypp_agent.debugger_9726a00b-3869-4a4f-bdd3-99db8686f18f_logger - DEBUG - Scroll top: 6196, last top: 5796\n",
      "2023-08-17 11:00:59,260 - zephyrion.browser_agent.pypp_agent.debugger_9726a00b-3869-4a4f-bdd3-99db8686f18f_logger - DEBUG - Scroll top: 6596, last top: 6196\n",
      "2023-08-17 11:00:59,348 - zephyrion.browser_agent.pypp_agent.debugger_9726a00b-3869-4a4f-bdd3-99db8686f18f_logger - DEBUG - Scroll top: 6996, last top: 6596\n",
      "2023-08-17 11:00:59,406 - zephyrion.browser_agent.pypp_agent.debugger_9726a00b-3869-4a4f-bdd3-99db8686f18f_logger - DEBUG - Scroll top: 7396, last top: 6996\n",
      "2023-08-17 11:00:59,469 - zephyrion.browser_agent.pypp_agent.debugger_9726a00b-3869-4a4f-bdd3-99db8686f18f_logger - DEBUG - Scroll top: 7563.2001953125, last top: 7396\n",
      "2023-08-17 11:01:00,044 - zephyrion.browser_agent.pypp_agent.debugger_9726a00b-3869-4a4f-bdd3-99db8686f18f_logger - DEBUG - Scroll top: 7563.2001953125, last top: 7563.2001953125\n",
      "2023-08-17 11:01:00,045 - zephyrion.browser_agent.pypp_agent.debugger_9726a00b-3869-4a4f-bdd3-99db8686f18f_logger - INFO - Top unchanged, Scroll top: 7563.2001953125, last top: 7563.2001953125, same count: 1, same_th: 20\n",
      "2023-08-17 11:01:00,241 - zephyrion.browser_agent.pypp_agent.debugger_9726a00b-3869-4a4f-bdd3-99db8686f18f_logger - DEBUG - Scroll top: 7963.2001953125, last top: 7563.2001953125\n",
      "2023-08-17 11:01:00,367 - zephyrion.browser_agent.pypp_agent.debugger_9726a00b-3869-4a4f-bdd3-99db8686f18f_logger - DEBUG - Scroll top: 8363.2001953125, last top: 7963.2001953125\n",
      "2023-08-17 11:01:00,457 - zephyrion.browser_agent.pypp_agent.debugger_9726a00b-3869-4a4f-bdd3-99db8686f18f_logger - DEBUG - Scroll top: 8763.2001953125, last top: 8363.2001953125\n",
      "2023-08-17 11:01:00,587 - zephyrion.browser_agent.pypp_agent.debugger_9726a00b-3869-4a4f-bdd3-99db8686f18f_logger - DEBUG - Scroll top: 9163.2001953125, last top: 8763.2001953125\n",
      "2023-08-17 11:01:00,711 - zephyrion.browser_agent.pypp_agent.debugger_9726a00b-3869-4a4f-bdd3-99db8686f18f_logger - DEBUG - Scroll top: 9563.2001953125, last top: 9163.2001953125\n",
      "2023-08-17 11:01:00,811 - zephyrion.browser_agent.pypp_agent.debugger_9726a00b-3869-4a4f-bdd3-99db8686f18f_logger - DEBUG - Scroll top: 9963.2001953125, last top: 9563.2001953125\n",
      "2023-08-17 11:01:00,900 - zephyrion.browser_agent.pypp_agent.debugger_9726a00b-3869-4a4f-bdd3-99db8686f18f_logger - DEBUG - Scroll top: 10363.2001953125, last top: 9963.2001953125\n",
      "2023-08-17 11:01:00,966 - zephyrion.browser_agent.pypp_agent.debugger_9726a00b-3869-4a4f-bdd3-99db8686f18f_logger - DEBUG - Scroll top: 10513.599609375, last top: 10363.2001953125\n",
      "2023-08-17 11:01:01,621 - zephyrion.browser_agent.pypp_agent.debugger_9726a00b-3869-4a4f-bdd3-99db8686f18f_logger - DEBUG - Scroll top: 10913.599609375, last top: 10513.599609375\n",
      "2023-08-17 11:01:01,793 - zephyrion.browser_agent.pypp_agent.debugger_9726a00b-3869-4a4f-bdd3-99db8686f18f_logger - DEBUG - Scroll top: 11313.599609375, last top: 10913.599609375\n",
      "2023-08-17 11:01:02,010 - zephyrion.browser_agent.pypp_agent.debugger_9726a00b-3869-4a4f-bdd3-99db8686f18f_logger - DEBUG - Scroll top: 11713.599609375, last top: 11313.599609375\n",
      "2023-08-17 11:01:02,166 - zephyrion.browser_agent.pypp_agent.debugger_9726a00b-3869-4a4f-bdd3-99db8686f18f_logger - DEBUG - Scroll top: 12113.599609375, last top: 11713.599609375\n",
      "2023-08-17 11:01:02,305 - zephyrion.browser_agent.pypp_agent.debugger_9726a00b-3869-4a4f-bdd3-99db8686f18f_logger - DEBUG - Scroll top: 12513.599609375, last top: 12113.599609375\n",
      "2023-08-17 11:01:02,416 - zephyrion.browser_agent.pypp_agent.debugger_9726a00b-3869-4a4f-bdd3-99db8686f18f_logger - DEBUG - Scroll top: 12913.599609375, last top: 12513.599609375\n",
      "2023-08-17 11:01:02,513 - zephyrion.browser_agent.pypp_agent.debugger_9726a00b-3869-4a4f-bdd3-99db8686f18f_logger - DEBUG - Scroll top: 13313.599609375, last top: 12913.599609375\n",
      "2023-08-17 11:01:03,090 - zephyrion.browser_agent.pypp_agent.debugger_9726a00b-3869-4a4f-bdd3-99db8686f18f_logger - DEBUG - Scroll top: 13444, last top: 13313.599609375\n",
      "2023-08-17 11:01:03,341 - zephyrion.browser_agent.pypp_agent.debugger_9726a00b-3869-4a4f-bdd3-99db8686f18f_logger - DEBUG - Scroll top: 13844, last top: 13444\n",
      "2023-08-17 11:01:03,514 - zephyrion.browser_agent.pypp_agent.debugger_9726a00b-3869-4a4f-bdd3-99db8686f18f_logger - DEBUG - Scroll top: 14244, last top: 13844\n",
      "2023-08-17 11:01:03,695 - zephyrion.browser_agent.pypp_agent.debugger_9726a00b-3869-4a4f-bdd3-99db8686f18f_logger - DEBUG - Scroll top: 14644, last top: 14244\n",
      "2023-08-17 11:01:03,878 - zephyrion.browser_agent.pypp_agent.debugger_9726a00b-3869-4a4f-bdd3-99db8686f18f_logger - DEBUG - Scroll top: 15044, last top: 14644\n",
      "2023-08-17 11:01:04,061 - zephyrion.browser_agent.pypp_agent.debugger_9726a00b-3869-4a4f-bdd3-99db8686f18f_logger - DEBUG - Scroll top: 15444, last top: 15044\n",
      "2023-08-17 11:01:04,197 - zephyrion.browser_agent.pypp_agent.debugger_9726a00b-3869-4a4f-bdd3-99db8686f18f_logger - DEBUG - Scroll top: 15844, last top: 15444\n",
      "2023-08-17 11:01:04,339 - zephyrion.browser_agent.pypp_agent.debugger_9726a00b-3869-4a4f-bdd3-99db8686f18f_logger - DEBUG - Scroll top: 16244, last top: 15844\n",
      "2023-08-17 11:01:05,003 - zephyrion.browser_agent.pypp_agent.debugger_9726a00b-3869-4a4f-bdd3-99db8686f18f_logger - DEBUG - Scroll top: 16644, last top: 16244\n",
      "2023-08-17 11:01:05,169 - zephyrion.browser_agent.pypp_agent.debugger_9726a00b-3869-4a4f-bdd3-99db8686f18f_logger - DEBUG - Scroll top: 17044, last top: 16644\n",
      "2023-08-17 11:01:05,412 - zephyrion.browser_agent.pypp_agent.debugger_9726a00b-3869-4a4f-bdd3-99db8686f18f_logger - DEBUG - Scroll top: 17444, last top: 17044\n",
      "2023-08-17 11:01:05,612 - zephyrion.browser_agent.pypp_agent.debugger_9726a00b-3869-4a4f-bdd3-99db8686f18f_logger - DEBUG - Scroll top: 17844, last top: 17444\n",
      "2023-08-17 11:01:05,790 - zephyrion.browser_agent.pypp_agent.debugger_9726a00b-3869-4a4f-bdd3-99db8686f18f_logger - DEBUG - Scroll top: 18244, last top: 17844\n",
      "2023-08-17 11:01:06,001 - zephyrion.browser_agent.pypp_agent.debugger_9726a00b-3869-4a4f-bdd3-99db8686f18f_logger - DEBUG - Scroll top: 18644, last top: 18244\n",
      "2023-08-17 11:01:06,195 - zephyrion.browser_agent.pypp_agent.debugger_9726a00b-3869-4a4f-bdd3-99db8686f18f_logger - DEBUG - Scroll top: 19044, last top: 18644\n",
      "2023-08-17 11:01:06,975 - zephyrion.browser_agent.pypp_agent.debugger_9726a00b-3869-4a4f-bdd3-99db8686f18f_logger - DEBUG - Scroll top: 19444, last top: 19044\n",
      "2023-08-17 11:01:07,351 - zephyrion.browser_agent.pypp_agent.debugger_9726a00b-3869-4a4f-bdd3-99db8686f18f_logger - DEBUG - Scroll top: 19844, last top: 19444\n",
      "2023-08-17 11:01:07,507 - zephyrion.browser_agent.pypp_agent.debugger_9726a00b-3869-4a4f-bdd3-99db8686f18f_logger - DEBUG - Scroll top: 20244, last top: 19844\n",
      "2023-08-17 11:01:07,718 - zephyrion.browser_agent.pypp_agent.debugger_9726a00b-3869-4a4f-bdd3-99db8686f18f_logger - DEBUG - Scroll top: 20644, last top: 20244\n",
      "2023-08-17 11:01:07,924 - zephyrion.browser_agent.pypp_agent.debugger_9726a00b-3869-4a4f-bdd3-99db8686f18f_logger - DEBUG - Scroll top: 21044, last top: 20644\n",
      "2023-08-17 11:01:08,140 - zephyrion.browser_agent.pypp_agent.debugger_9726a00b-3869-4a4f-bdd3-99db8686f18f_logger - DEBUG - Scroll top: 21444, last top: 21044\n",
      "2023-08-17 11:01:08,396 - zephyrion.browser_agent.pypp_agent.debugger_9726a00b-3869-4a4f-bdd3-99db8686f18f_logger - DEBUG - Scroll top: 21844, last top: 21444\n",
      "2023-08-17 11:01:08,548 - zephyrion.browser_agent.pypp_agent.debugger_9726a00b-3869-4a4f-bdd3-99db8686f18f_logger - DEBUG - Scroll top: 22213.599609375, last top: 21844\n",
      "2023-08-17 11:01:09,354 - zephyrion.browser_agent.pypp_agent.debugger_9726a00b-3869-4a4f-bdd3-99db8686f18f_logger - DEBUG - Scroll top: 22613.599609375, last top: 22213.599609375\n",
      "2023-08-17 11:01:09,663 - zephyrion.browser_agent.pypp_agent.debugger_9726a00b-3869-4a4f-bdd3-99db8686f18f_logger - DEBUG - Scroll top: 23013.599609375, last top: 22613.599609375\n",
      "2023-08-17 11:01:09,842 - zephyrion.browser_agent.pypp_agent.debugger_9726a00b-3869-4a4f-bdd3-99db8686f18f_logger - DEBUG - Scroll top: 23413.599609375, last top: 23013.599609375\n",
      "2023-08-17 11:01:10,061 - zephyrion.browser_agent.pypp_agent.debugger_9726a00b-3869-4a4f-bdd3-99db8686f18f_logger - DEBUG - Scroll top: 23813.599609375, last top: 23413.599609375\n",
      "2023-08-17 11:01:10,227 - zephyrion.browser_agent.pypp_agent.debugger_9726a00b-3869-4a4f-bdd3-99db8686f18f_logger - DEBUG - Scroll top: 24213.599609375, last top: 23813.599609375\n",
      "2023-08-17 11:01:10,443 - zephyrion.browser_agent.pypp_agent.debugger_9726a00b-3869-4a4f-bdd3-99db8686f18f_logger - DEBUG - Scroll top: 24613.599609375, last top: 24213.599609375\n",
      "2023-08-17 11:01:11,089 - zephyrion.browser_agent.pypp_agent.debugger_9726a00b-3869-4a4f-bdd3-99db8686f18f_logger - DEBUG - Scroll top: 25013.599609375, last top: 24613.599609375\n",
      "2023-08-17 11:01:11,938 - zephyrion.browser_agent.pypp_agent.debugger_9726a00b-3869-4a4f-bdd3-99db8686f18f_logger - DEBUG - Scroll top: 25413.599609375, last top: 25013.599609375\n",
      "2023-08-17 11:01:12,184 - zephyrion.browser_agent.pypp_agent.debugger_9726a00b-3869-4a4f-bdd3-99db8686f18f_logger - DEBUG - Scroll top: 25813.599609375, last top: 25413.599609375\n",
      "2023-08-17 11:01:12,440 - zephyrion.browser_agent.pypp_agent.debugger_9726a00b-3869-4a4f-bdd3-99db8686f18f_logger - DEBUG - Scroll top: 26213.599609375, last top: 25813.599609375\n",
      "2023-08-17 11:01:12,694 - zephyrion.browser_agent.pypp_agent.debugger_9726a00b-3869-4a4f-bdd3-99db8686f18f_logger - DEBUG - Scroll top: 26613.599609375, last top: 26213.599609375\n",
      "2023-08-17 11:01:12,851 - zephyrion.browser_agent.pypp_agent.debugger_9726a00b-3869-4a4f-bdd3-99db8686f18f_logger - DEBUG - Scroll top: 27013.599609375, last top: 26613.599609375\n",
      "2023-08-17 11:01:13,055 - zephyrion.browser_agent.pypp_agent.debugger_9726a00b-3869-4a4f-bdd3-99db8686f18f_logger - DEBUG - Scroll top: 27413.599609375, last top: 27013.599609375\n",
      "2023-08-17 11:01:13,146 - zephyrion.browser_agent.pypp_agent.debugger_9726a00b-3869-4a4f-bdd3-99db8686f18f_logger - DEBUG - Scroll top: 27813.599609375, last top: 27413.599609375\n",
      "2023-08-17 11:01:14,095 - zephyrion.browser_agent.pypp_agent.debugger_9726a00b-3869-4a4f-bdd3-99db8686f18f_logger - DEBUG - Scroll top: 28213.599609375, last top: 27813.599609375\n",
      "2023-08-17 11:01:14,580 - zephyrion.browser_agent.pypp_agent.debugger_9726a00b-3869-4a4f-bdd3-99db8686f18f_logger - DEBUG - Scroll top: 28613.599609375, last top: 28213.599609375\n",
      "2023-08-17 11:01:14,726 - zephyrion.browser_agent.pypp_agent.debugger_9726a00b-3869-4a4f-bdd3-99db8686f18f_logger - DEBUG - Scroll top: 29013.599609375, last top: 28613.599609375\n",
      "2023-08-17 11:01:15,060 - zephyrion.browser_agent.pypp_agent.debugger_9726a00b-3869-4a4f-bdd3-99db8686f18f_logger - DEBUG - Scroll top: 29413.599609375, last top: 29013.599609375\n",
      "2023-08-17 11:01:15,354 - zephyrion.browser_agent.pypp_agent.debugger_9726a00b-3869-4a4f-bdd3-99db8686f18f_logger - DEBUG - Scroll top: 29813.599609375, last top: 29413.599609375\n",
      "2023-08-17 11:01:15,585 - zephyrion.browser_agent.pypp_agent.debugger_9726a00b-3869-4a4f-bdd3-99db8686f18f_logger - DEBUG - Scroll top: 30213.599609375, last top: 29813.599609375\n",
      "2023-08-17 11:01:15,818 - zephyrion.browser_agent.pypp_agent.debugger_9726a00b-3869-4a4f-bdd3-99db8686f18f_logger - DEBUG - Scroll top: 30613.599609375, last top: 30213.599609375\n",
      "2023-08-17 11:01:15,947 - zephyrion.browser_agent.pypp_agent.debugger_9726a00b-3869-4a4f-bdd3-99db8686f18f_logger - DEBUG - Scroll top: 31013.599609375, last top: 30613.599609375\n",
      "2023-08-17 11:01:17,592 - zephyrion.browser_agent.pypp_agent.debugger_9726a00b-3869-4a4f-bdd3-99db8686f18f_logger - DEBUG - Scroll top: 31413.599609375, last top: 31013.599609375\n",
      "2023-08-17 11:01:18,039 - zephyrion.browser_agent.pypp_agent.debugger_9726a00b-3869-4a4f-bdd3-99db8686f18f_logger - DEBUG - Scroll top: 31813.599609375, last top: 31413.599609375\n",
      "2023-08-17 11:01:18,288 - zephyrion.browser_agent.pypp_agent.debugger_9726a00b-3869-4a4f-bdd3-99db8686f18f_logger - DEBUG - Scroll top: 32213.599609375, last top: 31813.599609375\n",
      "2023-08-17 11:01:18,536 - zephyrion.browser_agent.pypp_agent.debugger_9726a00b-3869-4a4f-bdd3-99db8686f18f_logger - DEBUG - Scroll top: 32613.599609375, last top: 32213.599609375\n",
      "2023-08-17 11:01:19,151 - zephyrion.browser_agent.pypp_agent.debugger_9726a00b-3869-4a4f-bdd3-99db8686f18f_logger - DEBUG - Scroll top: 33013.6015625, last top: 32613.599609375\n",
      "2023-08-17 11:01:19,281 - zephyrion.browser_agent.pypp_agent.debugger_9726a00b-3869-4a4f-bdd3-99db8686f18f_logger - DEBUG - Scroll top: 33228, last top: 33013.6015625\n",
      "2023-08-17 11:01:19,477 - zephyrion.browser_agent.pypp_agent.debugger_9726a00b-3869-4a4f-bdd3-99db8686f18f_logger - DEBUG - Scroll top: 33228, last top: 33228\n",
      "2023-08-17 11:01:19,478 - zephyrion.browser_agent.pypp_agent.debugger_9726a00b-3869-4a4f-bdd3-99db8686f18f_logger - INFO - Top unchanged, Scroll top: 33228, last top: 33228, same count: 1, same_th: 20\n",
      "2023-08-17 11:01:19,873 - zephyrion.browser_agent.pypp_agent.debugger_9726a00b-3869-4a4f-bdd3-99db8686f18f_logger - DEBUG - Scroll top: 33228, last top: 33228\n",
      "2023-08-17 11:01:19,874 - zephyrion.browser_agent.pypp_agent.debugger_9726a00b-3869-4a4f-bdd3-99db8686f18f_logger - INFO - Top unchanged, Scroll top: 33228, last top: 33228, same count: 2, same_th: 20\n",
      "2023-08-17 11:01:20,218 - zephyrion.browser_agent.pypp_agent.debugger_9726a00b-3869-4a4f-bdd3-99db8686f18f_logger - DEBUG - Scroll top: 33228, last top: 33228\n",
      "2023-08-17 11:01:20,219 - zephyrion.browser_agent.pypp_agent.debugger_9726a00b-3869-4a4f-bdd3-99db8686f18f_logger - INFO - Top unchanged, Scroll top: 33228, last top: 33228, same count: 3, same_th: 20\n",
      "2023-08-17 11:01:20,339 - zephyrion.browser_agent.pypp_agent.debugger_9726a00b-3869-4a4f-bdd3-99db8686f18f_logger - DEBUG - Scroll top: 33228, last top: 33228\n",
      "2023-08-17 11:01:20,340 - zephyrion.browser_agent.pypp_agent.debugger_9726a00b-3869-4a4f-bdd3-99db8686f18f_logger - INFO - Top unchanged, Scroll top: 33228, last top: 33228, same count: 4, same_th: 20\n",
      "2023-08-17 11:01:20,587 - zephyrion.browser_agent.pypp_agent.debugger_9726a00b-3869-4a4f-bdd3-99db8686f18f_logger - DEBUG - Scroll top: 33228, last top: 33228\n",
      "2023-08-17 11:01:20,587 - zephyrion.browser_agent.pypp_agent.debugger_9726a00b-3869-4a4f-bdd3-99db8686f18f_logger - INFO - Top unchanged, Scroll top: 33228, last top: 33228, same count: 5, same_th: 20\n",
      "2023-08-17 11:01:20,737 - zephyrion.browser_agent.pypp_agent.debugger_9726a00b-3869-4a4f-bdd3-99db8686f18f_logger - DEBUG - Scroll top: 33228, last top: 33228\n",
      "2023-08-17 11:01:20,738 - zephyrion.browser_agent.pypp_agent.debugger_9726a00b-3869-4a4f-bdd3-99db8686f18f_logger - INFO - Top unchanged, Scroll top: 33228, last top: 33228, same count: 6, same_th: 20\n",
      "2023-08-17 11:01:20,800 - zephyrion.browser_agent.pypp_agent.debugger_9726a00b-3869-4a4f-bdd3-99db8686f18f_logger - DEBUG - Scroll top: 33228, last top: 33228\n",
      "2023-08-17 11:01:20,801 - zephyrion.browser_agent.pypp_agent.debugger_9726a00b-3869-4a4f-bdd3-99db8686f18f_logger - INFO - Top unchanged, Scroll top: 33228, last top: 33228, same count: 7, same_th: 20\n",
      "2023-08-17 11:01:20,880 - zephyrion.browser_agent.pypp_agent.debugger_9726a00b-3869-4a4f-bdd3-99db8686f18f_logger - DEBUG - Scroll top: 33228, last top: 33228\n",
      "2023-08-17 11:01:20,881 - zephyrion.browser_agent.pypp_agent.debugger_9726a00b-3869-4a4f-bdd3-99db8686f18f_logger - INFO - Top unchanged, Scroll top: 33228, last top: 33228, same count: 8, same_th: 20\n",
      "2023-08-17 11:01:20,942 - zephyrion.browser_agent.pypp_agent.debugger_9726a00b-3869-4a4f-bdd3-99db8686f18f_logger - DEBUG - Scroll top: 33228, last top: 33228\n",
      "2023-08-17 11:01:20,943 - zephyrion.browser_agent.pypp_agent.debugger_9726a00b-3869-4a4f-bdd3-99db8686f18f_logger - INFO - Top unchanged, Scroll top: 33228, last top: 33228, same count: 9, same_th: 20\n",
      "2023-08-17 11:01:21,005 - zephyrion.browser_agent.pypp_agent.debugger_9726a00b-3869-4a4f-bdd3-99db8686f18f_logger - DEBUG - Scroll top: 33228, last top: 33228\n",
      "2023-08-17 11:01:21,006 - zephyrion.browser_agent.pypp_agent.debugger_9726a00b-3869-4a4f-bdd3-99db8686f18f_logger - INFO - Top unchanged, Scroll top: 33228, last top: 33228, same count: 10, same_th: 20\n",
      "2023-08-17 11:01:21,069 - zephyrion.browser_agent.pypp_agent.debugger_9726a00b-3869-4a4f-bdd3-99db8686f18f_logger - DEBUG - Scroll top: 33228, last top: 33228\n",
      "2023-08-17 11:01:21,069 - zephyrion.browser_agent.pypp_agent.debugger_9726a00b-3869-4a4f-bdd3-99db8686f18f_logger - INFO - Top unchanged, Scroll top: 33228, last top: 33228, same count: 11, same_th: 20\n",
      "2023-08-17 11:01:21,132 - zephyrion.browser_agent.pypp_agent.debugger_9726a00b-3869-4a4f-bdd3-99db8686f18f_logger - DEBUG - Scroll top: 33228, last top: 33228\n",
      "2023-08-17 11:01:21,133 - zephyrion.browser_agent.pypp_agent.debugger_9726a00b-3869-4a4f-bdd3-99db8686f18f_logger - INFO - Top unchanged, Scroll top: 33228, last top: 33228, same count: 12, same_th: 20\n",
      "2023-08-17 11:01:21,195 - zephyrion.browser_agent.pypp_agent.debugger_9726a00b-3869-4a4f-bdd3-99db8686f18f_logger - DEBUG - Scroll top: 33228, last top: 33228\n",
      "2023-08-17 11:01:21,195 - zephyrion.browser_agent.pypp_agent.debugger_9726a00b-3869-4a4f-bdd3-99db8686f18f_logger - INFO - Top unchanged, Scroll top: 33228, last top: 33228, same count: 13, same_th: 20\n",
      "2023-08-17 11:01:21,259 - zephyrion.browser_agent.pypp_agent.debugger_9726a00b-3869-4a4f-bdd3-99db8686f18f_logger - DEBUG - Scroll top: 33228, last top: 33228\n",
      "2023-08-17 11:01:21,260 - zephyrion.browser_agent.pypp_agent.debugger_9726a00b-3869-4a4f-bdd3-99db8686f18f_logger - INFO - Top unchanged, Scroll top: 33228, last top: 33228, same count: 14, same_th: 20\n",
      "2023-08-17 11:01:21,321 - zephyrion.browser_agent.pypp_agent.debugger_9726a00b-3869-4a4f-bdd3-99db8686f18f_logger - DEBUG - Scroll top: 33228, last top: 33228\n",
      "2023-08-17 11:01:21,321 - zephyrion.browser_agent.pypp_agent.debugger_9726a00b-3869-4a4f-bdd3-99db8686f18f_logger - INFO - Top unchanged, Scroll top: 33228, last top: 33228, same count: 15, same_th: 20\n",
      "2023-08-17 11:01:21,383 - zephyrion.browser_agent.pypp_agent.debugger_9726a00b-3869-4a4f-bdd3-99db8686f18f_logger - DEBUG - Scroll top: 33228, last top: 33228\n",
      "2023-08-17 11:01:21,384 - zephyrion.browser_agent.pypp_agent.debugger_9726a00b-3869-4a4f-bdd3-99db8686f18f_logger - INFO - Top unchanged, Scroll top: 33228, last top: 33228, same count: 16, same_th: 20\n",
      "2023-08-17 11:01:21,447 - zephyrion.browser_agent.pypp_agent.debugger_9726a00b-3869-4a4f-bdd3-99db8686f18f_logger - DEBUG - Scroll top: 33228, last top: 33228\n",
      "2023-08-17 11:01:21,447 - zephyrion.browser_agent.pypp_agent.debugger_9726a00b-3869-4a4f-bdd3-99db8686f18f_logger - INFO - Top unchanged, Scroll top: 33228, last top: 33228, same count: 17, same_th: 20\n",
      "2023-08-17 11:01:21,511 - zephyrion.browser_agent.pypp_agent.debugger_9726a00b-3869-4a4f-bdd3-99db8686f18f_logger - DEBUG - Scroll top: 33228, last top: 33228\n",
      "2023-08-17 11:01:21,512 - zephyrion.browser_agent.pypp_agent.debugger_9726a00b-3869-4a4f-bdd3-99db8686f18f_logger - INFO - Top unchanged, Scroll top: 33228, last top: 33228, same count: 18, same_th: 20\n",
      "2023-08-17 11:01:21,574 - zephyrion.browser_agent.pypp_agent.debugger_9726a00b-3869-4a4f-bdd3-99db8686f18f_logger - DEBUG - Scroll top: 33228, last top: 33228\n",
      "2023-08-17 11:01:21,574 - zephyrion.browser_agent.pypp_agent.debugger_9726a00b-3869-4a4f-bdd3-99db8686f18f_logger - INFO - Top unchanged, Scroll top: 33228, last top: 33228, same count: 19, same_th: 20\n",
      "2023-08-17 11:01:21,638 - zephyrion.browser_agent.pypp_agent.debugger_9726a00b-3869-4a4f-bdd3-99db8686f18f_logger - DEBUG - Scroll top: 33228, last top: 33228\n",
      "2023-08-17 11:01:21,639 - zephyrion.browser_agent.pypp_agent.debugger_9726a00b-3869-4a4f-bdd3-99db8686f18f_logger - INFO - Top unchanged, Scroll top: 33228, last top: 33228, same count: 20, same_th: 20\n",
      "2023-08-17 11:01:21,655 - zephyrion.browser_agent.pypp_agent.debugger_9726a00b-3869-4a4f-bdd3-99db8686f18f_logger - INFO - Loaded 286 elements\n"
     ]
    },
    {
     "data": {
      "text/plain": "286"
     },
     "execution_count": 15,
     "metadata": {},
     "output_type": "execute_result"
    }
   ],
   "source": [],
   "metadata": {
    "collapsed": false
   }
  }
 ],
 "metadata": {
  "kernelspec": {
   "display_name": "Python 3",
   "language": "python",
   "name": "python3"
  },
  "language_info": {
   "codemirror_mode": {
    "name": "ipython",
    "version": 2
   },
   "file_extension": ".py",
   "mimetype": "text/x-python",
   "name": "python",
   "nbconvert_exporter": "python",
   "pygments_lexer": "ipython2",
   "version": "2.7.6"
  }
 },
 "nbformat": 4,
 "nbformat_minor": 0
}
