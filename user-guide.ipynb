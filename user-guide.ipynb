{
 "cells": [
  {
   "cell_type": "markdown",
   "source": [
    "# User Guide"
   ],
   "metadata": {
    "collapsed": false
   }
  },
  {
   "cell_type": "markdown",
   "source": [
    "Import packages"
   ],
   "metadata": {
    "collapsed": false
   }
  },
  {
   "cell_type": "code",
   "execution_count": 15,
   "outputs": [
    {
     "name": "stdout",
     "output_type": "stream",
     "text": [
      "The autoreload extension is already loaded. To reload it, use:\n",
      "  %reload_ext autoreload\n"
     ]
    }
   ],
   "source": [
    "# autoreload\n",
    "%load_ext autoreload\n",
    "%autoreload 2\n",
    "import logging\n",
    "from utils.debug_utils import Debugger\n",
    "from youtube_crawler import YoutubeVideoInfoCrawler"
   ],
   "metadata": {
    "collapsed": false
   }
  },
  {
   "cell_type": "markdown",
   "source": [
    "## 1. Youtube Video Info Crawler"
   ],
   "metadata": {
    "collapsed": false
   }
  },
  {
   "cell_type": "code",
   "execution_count": 16,
   "outputs": [],
   "source": [
    "# Initialize a crawler instance and start it\n",
    "video_crawler = YoutubeVideoInfoCrawler(debug_tool=Debugger(level=logging.INFO), headless=False)"
   ],
   "metadata": {
    "collapsed": false
   }
  },
  {
   "cell_type": "code",
   "execution_count": 18,
   "outputs": [
    {
     "name": "stderr",
     "output_type": "stream",
     "text": [
      "2023-08-18 22:50:22,317 - utils.debug_utils_e7b5291d-2fa0-45a9-8eb4-d169c40570de_logger - WARNING - Browser: Already running.\n",
      "2023-08-18 22:50:22,317 - utils.debug_utils_e7b5291d-2fa0-45a9-8eb4-d169c40570de_logger - INFO - Browser: Go to https://www.youtube.com/\n"
     ]
    }
   ],
   "source": [
    "await video_crawler.start()"
   ],
   "metadata": {
    "collapsed": false
   }
  },
  {
   "cell_type": "code",
   "execution_count": 20,
   "outputs": [
    {
     "name": "stderr",
     "output_type": "stream",
     "text": [
      "2023-08-18 22:51:20,135 - utils.debug_utils_e7b5291d-2fa0-45a9-8eb4-d169c40570de_logger - INFO - Clicking #search-clear-button > ytd-button-renderer > yt-button-shape > button...\n",
      "2023-08-18 22:51:20,139 - utils.debug_utils_e7b5291d-2fa0-45a9-8eb4-d169c40570de_logger - INFO - #search-clear-button > ytd-button-renderer > yt-button-shape > button clicked successfully\n",
      "2023-08-18 22:51:20,147 - utils.debug_utils_e7b5291d-2fa0-45a9-8eb4-d169c40570de_logger - INFO - Typing Zephyrion in input#search...\n",
      "2023-08-18 22:51:20,187 - utils.debug_utils_e7b5291d-2fa0-45a9-8eb4-d169c40570de_logger - INFO - Zephyrion typed successfully in input#search\n",
      "2023-08-18 22:51:20,187 - utils.debug_utils_e7b5291d-2fa0-45a9-8eb4-d169c40570de_logger - INFO - Clicking input#search...\n",
      "2023-08-18 22:51:20,191 - utils.debug_utils_e7b5291d-2fa0-45a9-8eb4-d169c40570de_logger - INFO - input#search clicked successfully\n",
      "2023-08-18 22:51:20,195 - utils.debug_utils_e7b5291d-2fa0-45a9-8eb4-d169c40570de_logger - INFO - Clicking #search-icon-legacy...\n",
      "2023-08-18 22:51:20,218 - utils.debug_utils_e7b5291d-2fa0-45a9-8eb4-d169c40570de_logger - INFO - #search-icon-legacy clicked successfully\n",
      "2023-08-18 22:51:20,222 - utils.debug_utils_e7b5291d-2fa0-45a9-8eb4-d169c40570de_logger - INFO - waiting for new page to load...\n",
      "2023-08-18 22:51:21,244 - utils.debug_utils_e7b5291d-2fa0-45a9-8eb4-d169c40570de_logger - INFO - Clicking #filter-button > ytd-button-renderer > yt-button-shape > button > yt-touch-feedback-shape > div...\n",
      "2023-08-18 22:51:21,347 - utils.debug_utils_e7b5291d-2fa0-45a9-8eb4-d169c40570de_logger - INFO - #filter-button > ytd-button-renderer > yt-button-shape > button > yt-touch-feedback-shape > div clicked successfully\n",
      "2023-08-18 22:51:21,561 - utils.debug_utils_e7b5291d-2fa0-45a9-8eb4-d169c40570de_logger - INFO - Clicking #filter-button > ytd-button-renderer > yt-button-shape > button > yt-touch-feedback-shape > div...\n",
      "2023-08-18 22:51:21,577 - utils.debug_utils_e7b5291d-2fa0-45a9-8eb4-d169c40570de_logger - INFO - #filter-button > ytd-button-renderer > yt-button-shape > button > yt-touch-feedback-shape > div clicked successfully\n",
      "2023-08-18 22:51:21,697 - utils.debug_utils_e7b5291d-2fa0-45a9-8eb4-d169c40570de_logger - INFO - Scrolling and loading ytd-video-renderer...\n",
      "2023-08-18 22:51:21,697 - utils.debug_utils_e7b5291d-2fa0-45a9-8eb4-d169c40570de_logger - INFO - Inner Call Scrolling and loading...(selector=ytd-video-renderer, scroll_step=400, load_wait=40, same_th=20, threshold=100)\n",
      "2023-08-18 22:51:23,471 - utils.debug_utils_e7b5291d-2fa0-45a9-8eb4-d169c40570de_logger - INFO - Top unchanged, Scroll top: 3524, last top: 3524, same count: 1, same_th: 20\n",
      "2023-08-18 22:51:23,527 - utils.debug_utils_e7b5291d-2fa0-45a9-8eb4-d169c40570de_logger - INFO - Top unchanged, Scroll top: 3524, last top: 3524, same count: 2, same_th: 20\n",
      "2023-08-18 22:51:23,587 - utils.debug_utils_e7b5291d-2fa0-45a9-8eb4-d169c40570de_logger - INFO - Top unchanged, Scroll top: 3524, last top: 3524, same count: 3, same_th: 20\n",
      "2023-08-18 22:51:23,675 - utils.debug_utils_e7b5291d-2fa0-45a9-8eb4-d169c40570de_logger - INFO - Top unchanged, Scroll top: 3524, last top: 3524, same count: 4, same_th: 20\n",
      "2023-08-18 22:51:24,944 - utils.debug_utils_e7b5291d-2fa0-45a9-8eb4-d169c40570de_logger - INFO - Top unchanged, Scroll top: 7495.2001953125, last top: 7495.2001953125, same count: 1, same_th: 20\n",
      "2023-08-18 22:51:25,008 - utils.debug_utils_e7b5291d-2fa0-45a9-8eb4-d169c40570de_logger - INFO - Top unchanged, Scroll top: 7495.2001953125, last top: 7495.2001953125, same count: 2, same_th: 20\n",
      "2023-08-18 22:51:25,064 - utils.debug_utils_e7b5291d-2fa0-45a9-8eb4-d169c40570de_logger - INFO - Top unchanged, Scroll top: 7495.2001953125, last top: 7495.2001953125, same count: 3, same_th: 20\n",
      "2023-08-18 22:51:25,128 - utils.debug_utils_e7b5291d-2fa0-45a9-8eb4-d169c40570de_logger - INFO - Top unchanged, Scroll top: 7495.2001953125, last top: 7495.2001953125, same count: 4, same_th: 20\n",
      "2023-08-18 22:51:25,192 - utils.debug_utils_e7b5291d-2fa0-45a9-8eb4-d169c40570de_logger - INFO - Top unchanged, Scroll top: 7495.2001953125, last top: 7495.2001953125, same count: 5, same_th: 20\n",
      "2023-08-18 22:51:25,248 - utils.debug_utils_e7b5291d-2fa0-45a9-8eb4-d169c40570de_logger - INFO - Top unchanged, Scroll top: 7495.2001953125, last top: 7495.2001953125, same count: 6, same_th: 20\n",
      "2023-08-18 22:51:25,308 - utils.debug_utils_e7b5291d-2fa0-45a9-8eb4-d169c40570de_logger - INFO - Top unchanged, Scroll top: 7495.2001953125, last top: 7495.2001953125, same count: 7, same_th: 20\n",
      "2023-08-18 22:51:25,380 - utils.debug_utils_e7b5291d-2fa0-45a9-8eb4-d169c40570de_logger - INFO - Top unchanged, Scroll top: 7495.2001953125, last top: 7495.2001953125, same count: 8, same_th: 20\n",
      "2023-08-18 22:51:26,838 - utils.debug_utils_e7b5291d-2fa0-45a9-8eb4-d169c40570de_logger - INFO - Top unchanged, Scroll top: 11467.2001953125, last top: 11467.2001953125, same count: 1, same_th: 20\n",
      "2023-08-18 22:51:26,986 - utils.debug_utils_e7b5291d-2fa0-45a9-8eb4-d169c40570de_logger - INFO - Top unchanged, Scroll top: 11467.2001953125, last top: 11467.2001953125, same count: 2, same_th: 20\n",
      "2023-08-18 22:51:27,046 - utils.debug_utils_e7b5291d-2fa0-45a9-8eb4-d169c40570de_logger - INFO - Top unchanged, Scroll top: 11467.2001953125, last top: 11467.2001953125, same count: 3, same_th: 20\n",
      "2023-08-18 22:51:28,828 - utils.debug_utils_e7b5291d-2fa0-45a9-8eb4-d169c40570de_logger - INFO - Top unchanged, Scroll top: 15439.2001953125, last top: 15439.2001953125, same count: 1, same_th: 20\n",
      "2023-08-18 22:51:28,936 - utils.debug_utils_e7b5291d-2fa0-45a9-8eb4-d169c40570de_logger - INFO - Top unchanged, Scroll top: 15439.2001953125, last top: 15439.2001953125, same count: 2, same_th: 20\n",
      "2023-08-18 22:51:29,005 - utils.debug_utils_e7b5291d-2fa0-45a9-8eb4-d169c40570de_logger - INFO - Top unchanged, Scroll top: 15439.2001953125, last top: 15439.2001953125, same count: 3, same_th: 20\n",
      "2023-08-18 22:51:29,069 - utils.debug_utils_e7b5291d-2fa0-45a9-8eb4-d169c40570de_logger - INFO - Top unchanged, Scroll top: 15439.2001953125, last top: 15439.2001953125, same count: 4, same_th: 20\n",
      "2023-08-18 22:51:29,133 - utils.debug_utils_e7b5291d-2fa0-45a9-8eb4-d169c40570de_logger - INFO - Top unchanged, Scroll top: 15439.2001953125, last top: 15439.2001953125, same count: 5, same_th: 20\n",
      "2023-08-18 22:51:30,518 - utils.debug_utils_e7b5291d-2fa0-45a9-8eb4-d169c40570de_logger - INFO - Loaded 100 elements(exceed threshold 100), stop scrolling\n",
      "2023-08-18 22:51:30,551 - utils.debug_utils_e7b5291d-2fa0-45a9-8eb4-d169c40570de_logger - INFO - Loaded 100 elements\n",
      "2023-08-18 22:51:31,203 - utils.debug_utils_e7b5291d-2fa0-45a9-8eb4-d169c40570de_logger - WARNING - Could not find publish time for video 01IJxkV0hng, url: https://www.youtube.com/watch?v=01IJxkV0hng\n",
      "2023-08-18 22:51:32,199 - utils.debug_utils_e7b5291d-2fa0-45a9-8eb4-d169c40570de_logger - WARNING - Could not find publish time for video 5-cjuorFOyA, url: https://www.youtube.com/watch?v=5-cjuorFOyA\n",
      "2023-08-18 22:51:32,529 - utils.debug_utils_e7b5291d-2fa0-45a9-8eb4-d169c40570de_logger - WARNING - Could not find publish time for video P3fbMlPJjHs, url: https://www.youtube.com/watch?v=P3fbMlPJjHs\n",
      "2023-08-18 22:51:32,549 - utils.debug_utils_e7b5291d-2fa0-45a9-8eb4-d169c40570de_logger - WARNING - Could not find publish time for video 852OhWVtH0Y, url: https://www.youtube.com/watch?v=852OhWVtH0Y\n",
      "2023-08-18 22:51:33,043 - utils.debug_utils_e7b5291d-2fa0-45a9-8eb4-d169c40570de_logger - WARNING - Could not find publish time for video 2sRl_rkb0Dw, url: https://www.youtube.com/watch?v=2sRl_rkb0Dw\n"
     ]
    }
   ],
   "source": [
    "from youtube_crawler.browser_agent.filter_enum import FilterSection, FilterOrderByOption, FilterLengthOption\n",
    "\n",
    "search_term = \"Zephyrion\"\n",
    "n_target = 100\n",
    "filter_config = {\n",
    "    FilterSection.LENGTH: FilterLengthOption.MEDIUM,\n",
    "    FilterSection.ORDER_BY: FilterOrderByOption.UPLOAD_DATE\n",
    "}\n",
    "video_info_list = await video_crawler.crawl(search_term=search_term, n_target=n_target, filter_options=filter_config)"
   ],
   "metadata": {
    "collapsed": false
   }
  },
  {
   "cell_type": "code",
   "execution_count": 23,
   "outputs": [
    {
     "data": {
      "text/plain": "       video_id                                              title  \\\n0   NzxYavBI8Io          ZEPHYRION HUB INSTANT FACTORY (EZ KIKOKU)   \n1   Nyz5ng2EeaU  Instant Kill BOSSES INSTA FACTORY INSTA WIN ZE...   \n2   CBEOb0jMwJo  Grand Piece Online Battle Royale Script Zephyr...   \n3   98IFXrs-RS4  Journey to Zephyrion: Embracing Life's Greates...   \n4   U3AM72mSOQI                       Zephyrion gpo br best script   \n..          ...                                                ...   \n95  kbSaC7wlBa0  [BE] Fotten vs Zephyrion - Dark Love vs Brave ...   \n96  uGUs9Mmec60  H-7-7-30+ vs Zephyrion-Zero: DJA Round 3, Match 5   \n97  5pVaVy942W4        La chanson du jongleur de feu par Zephyrion   \n98  T_nECdYkCW8  AL-21 Dragonfly vs Zephyrion-Zero: DJA Round 2...   \n99  HEC48JpIKcU  Zephyrion-Zero vs IA-34 VIII: DJA Round 1, Mat...   \n\n                                      video_url  is_short view_count  \\\n0   https://www.youtube.com/watch?v=NzxYavBI8Io     False      57次观看   \n1   https://www.youtube.com/watch?v=Nyz5ng2EeaU     False     170次观看   \n2   https://www.youtube.com/watch?v=CBEOb0jMwJo     False      86次观看   \n3   https://www.youtube.com/watch?v=98IFXrs-RS4     False       5次观看   \n4   https://www.youtube.com/watch?v=U3AM72mSOQI     False      53次观看   \n..                                          ...       ...        ...   \n95  https://www.youtube.com/watch?v=kbSaC7wlBa0     False       5次观看   \n96  https://www.youtube.com/watch?v=uGUs9Mmec60     False      12次观看   \n97  https://www.youtube.com/watch?v=5pVaVy942W4     False     132次观看   \n98  https://www.youtube.com/watch?v=T_nECdYkCW8     False      26次观看   \n99  https://www.youtube.com/watch?v=HEC48JpIKcU     False      34次观看   \n\n   publish_time                 channel_name  \\\n0           2天前                         rier   \n1      直播时间：3天前              Èsaiemòs řaśuaś   \n2           4天前              Èsaiemòs řaśuaś   \n3           9天前            Listening Library   \n4          10天前  gpo br hacker zepherion hub   \n..          ...                          ...   \n95          3年前               SoulCalibur EU   \n96          3年前             SuicidalInsanity   \n97          3年前                     Brazério   \n98          3年前             SuicidalInsanity   \n99          4年前             SuicidalInsanity   \n\n                                          channel_url  \\\n0                       https://www.youtube.com/@rier   \n1            https://www.youtube.com/@Esaimeos_rasuas   \n2            https://www.youtube.com/@Esaimeos_rasuas   \n3   https://www.youtube.com/@ListeningLibrary-Know...   \n4   https://www.youtube.com/@gpo_br_hacker_zepheri...   \n..                                                ...   \n95         https://www.youtube.com/@soulcalibureu8489   \n96      https://www.youtube.com/@suicidalinsanity8231   \n97              https://www.youtube.com/@brazerio5236   \n98      https://www.youtube.com/@suicidalinsanity8231   \n99      https://www.youtube.com/@suicidalinsanity8231   \n\n                                            desc_text  \n0   https://discord.gg/QNgaHuxE (discord) #gpo #gr...  \n1   Script here Discord Server https://discord.gg/...  \n2   Script here Discord Server https://discord.gg/...  \n3   Learning Library is a YouTube channel dedicate...  \n4   go buy now discord link https://discord.gg/Dyq...  \n..                                                ...  \n95  Support ETL on Matcherino: https://matcherino....  \n96  Music by Kevin MacLeod - Electrodoodle, Your C...  \n97  Par Zephyrion https://www.youtube.com/channel/...  \n98  Music by Kevin MacLeod - Unity, Volitile react...  \n99               Music by Kevin MacLeod - Corruption.  \n\n[100 rows x 9 columns]",
      "text/html": "<div>\n<style scoped>\n    .dataframe tbody tr th:only-of-type {\n        vertical-align: middle;\n    }\n\n    .dataframe tbody tr th {\n        vertical-align: top;\n    }\n\n    .dataframe thead th {\n        text-align: right;\n    }\n</style>\n<table border=\"1\" class=\"dataframe\">\n  <thead>\n    <tr style=\"text-align: right;\">\n      <th></th>\n      <th>video_id</th>\n      <th>title</th>\n      <th>video_url</th>\n      <th>is_short</th>\n      <th>view_count</th>\n      <th>publish_time</th>\n      <th>channel_name</th>\n      <th>channel_url</th>\n      <th>desc_text</th>\n    </tr>\n  </thead>\n  <tbody>\n    <tr>\n      <th>0</th>\n      <td>NzxYavBI8Io</td>\n      <td>ZEPHYRION HUB INSTANT FACTORY (EZ KIKOKU)</td>\n      <td>https://www.youtube.com/watch?v=NzxYavBI8Io</td>\n      <td>False</td>\n      <td>57次观看</td>\n      <td>2天前</td>\n      <td>rier</td>\n      <td>https://www.youtube.com/@rier</td>\n      <td>https://discord.gg/QNgaHuxE (discord) #gpo #gr...</td>\n    </tr>\n    <tr>\n      <th>1</th>\n      <td>Nyz5ng2EeaU</td>\n      <td>Instant Kill BOSSES INSTA FACTORY INSTA WIN ZE...</td>\n      <td>https://www.youtube.com/watch?v=Nyz5ng2EeaU</td>\n      <td>False</td>\n      <td>170次观看</td>\n      <td>直播时间：3天前</td>\n      <td>Èsaiemòs řaśuaś</td>\n      <td>https://www.youtube.com/@Esaimeos_rasuas</td>\n      <td>Script here Discord Server https://discord.gg/...</td>\n    </tr>\n    <tr>\n      <th>2</th>\n      <td>CBEOb0jMwJo</td>\n      <td>Grand Piece Online Battle Royale Script Zephyr...</td>\n      <td>https://www.youtube.com/watch?v=CBEOb0jMwJo</td>\n      <td>False</td>\n      <td>86次观看</td>\n      <td>4天前</td>\n      <td>Èsaiemòs řaśuaś</td>\n      <td>https://www.youtube.com/@Esaimeos_rasuas</td>\n      <td>Script here Discord Server https://discord.gg/...</td>\n    </tr>\n    <tr>\n      <th>3</th>\n      <td>98IFXrs-RS4</td>\n      <td>Journey to Zephyrion: Embracing Life's Greates...</td>\n      <td>https://www.youtube.com/watch?v=98IFXrs-RS4</td>\n      <td>False</td>\n      <td>5次观看</td>\n      <td>9天前</td>\n      <td>Listening Library</td>\n      <td>https://www.youtube.com/@ListeningLibrary-Know...</td>\n      <td>Learning Library is a YouTube channel dedicate...</td>\n    </tr>\n    <tr>\n      <th>4</th>\n      <td>U3AM72mSOQI</td>\n      <td>Zephyrion gpo br best script</td>\n      <td>https://www.youtube.com/watch?v=U3AM72mSOQI</td>\n      <td>False</td>\n      <td>53次观看</td>\n      <td>10天前</td>\n      <td>gpo br hacker zepherion hub</td>\n      <td>https://www.youtube.com/@gpo_br_hacker_zepheri...</td>\n      <td>go buy now discord link https://discord.gg/Dyq...</td>\n    </tr>\n    <tr>\n      <th>...</th>\n      <td>...</td>\n      <td>...</td>\n      <td>...</td>\n      <td>...</td>\n      <td>...</td>\n      <td>...</td>\n      <td>...</td>\n      <td>...</td>\n      <td>...</td>\n    </tr>\n    <tr>\n      <th>95</th>\n      <td>kbSaC7wlBa0</td>\n      <td>[BE] Fotten vs Zephyrion - Dark Love vs Brave ...</td>\n      <td>https://www.youtube.com/watch?v=kbSaC7wlBa0</td>\n      <td>False</td>\n      <td>5次观看</td>\n      <td>3年前</td>\n      <td>SoulCalibur EU</td>\n      <td>https://www.youtube.com/@soulcalibureu8489</td>\n      <td>Support ETL on Matcherino: https://matcherino....</td>\n    </tr>\n    <tr>\n      <th>96</th>\n      <td>uGUs9Mmec60</td>\n      <td>H-7-7-30+ vs Zephyrion-Zero: DJA Round 3, Match 5</td>\n      <td>https://www.youtube.com/watch?v=uGUs9Mmec60</td>\n      <td>False</td>\n      <td>12次观看</td>\n      <td>3年前</td>\n      <td>SuicidalInsanity</td>\n      <td>https://www.youtube.com/@suicidalinsanity8231</td>\n      <td>Music by Kevin MacLeod - Electrodoodle, Your C...</td>\n    </tr>\n    <tr>\n      <th>97</th>\n      <td>5pVaVy942W4</td>\n      <td>La chanson du jongleur de feu par Zephyrion</td>\n      <td>https://www.youtube.com/watch?v=5pVaVy942W4</td>\n      <td>False</td>\n      <td>132次观看</td>\n      <td>3年前</td>\n      <td>Brazério</td>\n      <td>https://www.youtube.com/@brazerio5236</td>\n      <td>Par Zephyrion https://www.youtube.com/channel/...</td>\n    </tr>\n    <tr>\n      <th>98</th>\n      <td>T_nECdYkCW8</td>\n      <td>AL-21 Dragonfly vs Zephyrion-Zero: DJA Round 2...</td>\n      <td>https://www.youtube.com/watch?v=T_nECdYkCW8</td>\n      <td>False</td>\n      <td>26次观看</td>\n      <td>3年前</td>\n      <td>SuicidalInsanity</td>\n      <td>https://www.youtube.com/@suicidalinsanity8231</td>\n      <td>Music by Kevin MacLeod - Unity, Volitile react...</td>\n    </tr>\n    <tr>\n      <th>99</th>\n      <td>HEC48JpIKcU</td>\n      <td>Zephyrion-Zero vs IA-34 VIII: DJA Round 1, Mat...</td>\n      <td>https://www.youtube.com/watch?v=HEC48JpIKcU</td>\n      <td>False</td>\n      <td>34次观看</td>\n      <td>4年前</td>\n      <td>SuicidalInsanity</td>\n      <td>https://www.youtube.com/@suicidalinsanity8231</td>\n      <td>Music by Kevin MacLeod - Corruption.</td>\n    </tr>\n  </tbody>\n</table>\n<p>100 rows × 9 columns</p>\n</div>"
     },
     "execution_count": 23,
     "metadata": {},
     "output_type": "execute_result"
    }
   ],
   "source": [
    "import pandas as pd\n",
    "\n",
    "data_dict = [video_info.to_dict() for video_info in video_info_list]\n",
    "df = pd.DataFrame(data_dict)\n",
    "\n",
    "df"
   ],
   "metadata": {
    "collapsed": false
   }
  }
 ],
 "metadata": {
  "kernelspec": {
   "display_name": "Python 3",
   "language": "python",
   "name": "python3"
  },
  "language_info": {
   "codemirror_mode": {
    "name": "ipython",
    "version": 2
   },
   "file_extension": ".py",
   "mimetype": "text/x-python",
   "name": "python",
   "nbconvert_exporter": "python",
   "pygments_lexer": "ipython2",
   "version": "2.7.6"
  }
 },
 "nbformat": 4,
 "nbformat_minor": 0
}
