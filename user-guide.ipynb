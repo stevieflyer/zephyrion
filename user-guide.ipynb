{
 "cells": [
  {
   "cell_type": "code",
   "execution_count": 1,
   "metadata": {
    "collapsed": true
   },
   "outputs": [],
   "source": [
    "# autoreload\n",
    "%load_ext autoreload\n",
    "%autoreload 2\n",
    "import logging\n",
    "from zephyrion.utils.debug_utils import Debugger\n",
    "from youtube_crawler.browser_agent.agent import YoutubeAgent\n",
    "from youtube_crawler.filter_enum import FilterSection, FilterLengthOption\n",
    "\n",
    "browser_agent = YoutubeAgent(debug_tool=Debugger(level=logging.DEBUG))"
   ]
  },
  {
   "cell_type": "code",
   "execution_count": 3,
   "outputs": [
    {
     "name": "stderr",
     "output_type": "stream",
     "text": [
      "2023-08-18 01:55:34,262 - zephyrion.utils.debug_utils_7f2fa04a-67cf-464a-b84d-6cb8020e4578_logger - DEBUG - Starting PyppeteerAgent...\n",
      "2023-08-18 01:55:34,263 - zephyrion.utils.debug_utils_7f2fa04a-67cf-464a-b84d-6cb8020e4578_logger - WARNING - Browser: Already running.\n",
      "2023-08-18 01:55:34,264 - zephyrion.utils.debug_utils_7f2fa04a-67cf-464a-b84d-6cb8020e4578_logger - DEBUG - Starting PyppeteerAgent Successfully\n",
      "2023-08-18 01:55:34,264 - zephyrion.utils.debug_utils_7f2fa04a-67cf-464a-b84d-6cb8020e4578_logger - INFO - Browser: Go to https://www.youtube.com/\n"
     ]
    }
   ],
   "source": [
    "await browser_agent.start()"
   ],
   "metadata": {
    "collapsed": false
   }
  },
  {
   "cell_type": "code",
   "execution_count": 7,
   "outputs": [
    {
     "name": "stderr",
     "output_type": "stream",
     "text": [
      "2023-08-18 01:57:07,716 - zephyrion.utils.debug_utils_7f2fa04a-67cf-464a-b84d-6cb8020e4578_logger - INFO - Typing Python Tutorial in input#search...\n",
      "2023-08-18 01:57:07,845 - zephyrion.utils.debug_utils_7f2fa04a-67cf-464a-b84d-6cb8020e4578_logger - DEBUG - executed js code: document.querySelector(\"input#search\").getAttribute(\"value\"), result: None\n",
      "2023-08-18 01:57:07,846 - zephyrion.utils.debug_utils_7f2fa04a-67cf-464a-b84d-6cb8020e4578_logger - INFO - Python Tutorial typed successfully in input#search in 1 times\n",
      "2023-08-18 01:57:07,849 - zephyrion.utils.debug_utils_7f2fa04a-67cf-464a-b84d-6cb8020e4578_logger - INFO - Clicking #search-icon-legacy...\n",
      "2023-08-18 01:57:07,867 - zephyrion.utils.debug_utils_7f2fa04a-67cf-464a-b84d-6cb8020e4578_logger - DEBUG - executed js code: document.querySelector(\"#search-icon-legacy\").click(), result: None\n",
      "2023-08-18 01:57:07,867 - zephyrion.utils.debug_utils_7f2fa04a-67cf-464a-b84d-6cb8020e4578_logger - INFO - #search-icon-legacy clicked successfully\n",
      "2023-08-18 01:57:07,868 - zephyrion.utils.debug_utils_7f2fa04a-67cf-464a-b84d-6cb8020e4578_logger - INFO - waiting for new page to load...\n"
     ]
    }
   ],
   "source": [
    "await browser_agent.search(\"Python Tutorial\")"
   ],
   "metadata": {
    "collapsed": false
   }
  },
  {
   "cell_type": "code",
   "execution_count": 8,
   "outputs": [
    {
     "name": "stderr",
     "output_type": "stream",
     "text": [
      "2023-08-18 01:57:12,701 - zephyrion.utils.debug_utils_7f2fa04a-67cf-464a-b84d-6cb8020e4578_logger - INFO - Clicking #filter-button > ytd-button-renderer > yt-button-shape > button > yt-touch-feedback-shape > div...\n",
      "2023-08-18 01:57:12,755 - zephyrion.utils.debug_utils_7f2fa04a-67cf-464a-b84d-6cb8020e4578_logger - DEBUG - executed js code: document.querySelector(\"#filter-button > ytd-button-renderer > yt-button-shape > button > yt-touch-feedback-shape > div\").click(), result: None\n",
      "2023-08-18 01:57:12,756 - zephyrion.utils.debug_utils_7f2fa04a-67cf-464a-b84d-6cb8020e4578_logger - INFO - #filter-button > ytd-button-renderer > yt-button-shape > button > yt-touch-feedback-shape > div clicked successfully\n",
      "2023-08-18 01:57:12,806 - zephyrion.utils.debug_utils_7f2fa04a-67cf-464a-b84d-6cb8020e4578_logger - DEBUG - Filtering searching result, filter_section_title: 时长, option: 20 分钟以上\n"
     ]
    }
   ],
   "source": [
    "await browser_agent.filter_search_result(FilterSection.LENGTH, FilterLengthOption.LONG)"
   ],
   "metadata": {
    "collapsed": false
   }
  },
  {
   "cell_type": "code",
   "execution_count": null,
   "outputs": [],
   "source": [],
   "metadata": {
    "collapsed": false
   }
  }
 ],
 "metadata": {
  "kernelspec": {
   "display_name": "Python 3",
   "language": "python",
   "name": "python3"
  },
  "language_info": {
   "codemirror_mode": {
    "name": "ipython",
    "version": 2
   },
   "file_extension": ".py",
   "mimetype": "text/x-python",
   "name": "python",
   "nbconvert_exporter": "python",
   "pygments_lexer": "ipython2",
   "version": "2.7.6"
  }
 },
 "nbformat": 4,
 "nbformat_minor": 0
}
